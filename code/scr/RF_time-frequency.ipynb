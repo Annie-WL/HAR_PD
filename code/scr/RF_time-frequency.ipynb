{
 "cells": [
  {
   "cell_type": "markdown",
   "id": "3ae12d34",
   "metadata": {},
   "source": [
    "Evaluation metric:  \n",
    "\n",
    "Accuracy is easy to understand and commonly used for multiclass classification.  \n",
    "Precision: How many predicted activity of a class are correct.  \n",
    "Recall: How many actual activity are correctly predicted.  \n",
    "F1-score: harmonic mean of precision and recall.  \n",
    "Confusion matrix.  "
   ]
  },
  {
   "cell_type": "code",
   "execution_count": null,
   "id": "a326fd43",
   "metadata": {},
   "outputs": [],
   "source": []
  },
  {
   "cell_type": "code",
   "execution_count": null,
   "id": "9d47da2e",
   "metadata": {},
   "outputs": [],
   "source": [
    "import pandas as pd\n",
    "\n",
    "# Read the CSV files\n",
    "train_df = pd.read_csv(\"../gender/train.csv\")\n",
    "val_df = pd.read_csv(\"../gender/val.csv\")\n",
    "test_df = pd.read_csv(\"../gender/test.csv\")\n",
    "\n",
    "# Define the mapping for M10 activities\n",
    "m10_merge_dict = {\n",
    "    \"M10_WT0\": \"M10\", \"M10_WT1\": \"M10\", \"M10_WT2\": \"M10\",\n",
    "    \"M10_WT3\": \"M10\", \"M10_WT4\": \"M10\", \"M10_WT5\": \"M10\"\n",
    "}\n",
    "\n",
    "# Apply the mapping to the \"Activity\" column\n",
    "train_df[\"Activity\"] = train_df[\"Activity\"].replace(m10_merge_dict)\n",
    "val_df[\"Activity\"] = val_df[\"Activity\"].replace(m10_merge_dict)\n",
    "test_df[\"Activity\"] = test_df[\"Activity\"].replace(m10_merge_dict)\n",
    "\n",
    "# Save\n",
    "train_df.to_csv(\"../gender_merged/train.csv\", index=False)\n",
    "val_df.to_csv(\"../gender_merged/val.csv\", index=False)\n",
    "test_df.to_csv(\"../gender_merged/test.csv\", index=False)\n",
    "\n",
    "print(\"M10 activities merged and files saved.\")\n"
   ]
  },
  {
   "cell_type": "markdown",
   "id": "40ba5a47",
   "metadata": {},
   "source": [
    "-----"
   ]
  },
  {
   "cell_type": "markdown",
   "id": "d909a5ba",
   "metadata": {},
   "source": [
    "Version 1:"
   ]
  },
  {
   "cell_type": "code",
   "execution_count": null,
   "id": "70b93e42",
   "metadata": {},
   "outputs": [],
   "source": [
    "# import pandas as pd\n",
    "# from sklearn.ensemble import RandomForestClassifier\n",
    "# from sklearn.model_selection import GridSearchCV\n",
    "# from sklearn.metrics import classification_report\n",
    "\n",
    "# # Load traina and val data\n",
    "# train_df = pd.read_csv(\"../gender/train.csv\")\n",
    "# val_df = pd.read_csv(\"../gender/val.csv\")\n",
    "\n",
    "# # Set the features and labels\n",
    "# # drop out the columns which are not features\n",
    "# exclude_cols = [\n",
    "#     \"Activity\", \"Subject\", \"window\", \"set\", \"trial_id\",\n",
    "#     \"sex\", \"most_affected_wrist\", \"most_affected_ankle\", \"dominant_side\",\n",
    "#     \"age\", \"height_(cm)\", \"weight_(kg)\", \"most_affected_side\",\n",
    "#     \"hoehn_and_yahr_(stage)\", \"years_since_diagnosis\", \"cit\", \"updrs\"\n",
    "# ]\n",
    "\n",
    "# feature_cols = [col for col in train_df.columns if col not in exclude_cols]\n",
    "\n",
    "# X_train = train_df[feature_cols]\n",
    "# y_train = train_df[\"Activity\"]\n",
    "\n",
    "# X_val = val_df[feature_cols]\n",
    "# y_val = val_df[\"Activity\"]\n",
    "\n",
    "# # Define the model and grid parameters \n",
    "# rf_model = RandomForestClassifier(random_state=42)\n",
    "# param_grid = {\n",
    "#     \"n_estimators\": [100, 200, 500],\n",
    "#     \"max_depth\": [5, 10, 20],\n",
    "#     \"min_samples_split\": [2, 5],\n",
    "#     \"min_samples_leaf\": [1, 2]\n",
    "# }\n",
    "\n",
    "# # param_grid = {\n",
    "# #     \"n_estimators\": [100, 300, 500, 700],\n",
    "# #     \"max_depth\": [None, 10, 20, 30, 50],\n",
    "# #     \"min_samples_split\": [2, 5, 10],\n",
    "# #     \"min_samples_leaf\": [1, 2, 4],\n",
    "# #     \"max_features\": [\"sqrt\", \"log2\"]  \n",
    "# # }\n",
    "\n",
    "\n",
    "# # Grid search （k-fold cross validation）3, 5, 10\n",
    "# grid_search = GridSearchCV(\n",
    "#     estimator=rf_model,\n",
    "#     param_grid=param_grid,\n",
    "#     cv=3,\n",
    "#     n_jobs=-1,\n",
    "#     scoring=\"accuracy\",\n",
    "#     verbose=2\n",
    "# )\n",
    "# grid_search.fit(X_train, y_train)\n",
    "\n",
    "# # Evaluate the best model\n",
    "# best_model = grid_search.best_estimator_\n",
    "# y_val_pred = best_model.predict(X_val)\n",
    "\n",
    "# # Save the report\n",
    "# val_report = classification_report(y_val, y_val_pred, output_dict=True)\n",
    "# report_df = pd.DataFrame(val_report).transpose()\n",
    "# report_df.to_csv(\"../gender/val_classification_report2_3fold.csv\")\n",
    "\n",
    "# # print\n",
    "# print(\"Best Hyperparameters:\", grid_search.best_params_)\n"
   ]
  },
  {
   "cell_type": "markdown",
   "id": "97250828",
   "metadata": {},
   "source": [
    "---------------"
   ]
  },
  {
   "cell_type": "markdown",
   "id": "6475fc27",
   "metadata": {},
   "source": [
    "Version 2:  \n",
    "  \n",
    "use RandomizedSearchCV first，then use GridSearchCV  "
   ]
  },
  {
   "cell_type": "code",
   "execution_count": null,
   "id": "ffb53abe",
   "metadata": {},
   "outputs": [],
   "source": [
    "# import pandas as pd\n",
    "# import numpy as np\n",
    "# from sklearn.ensemble import RandomForestClassifier\n",
    "# from sklearn.model_selection import RandomizedSearchCV, GridSearchCV\n",
    "# from sklearn.metrics import classification_report\n",
    "\n",
    "\n",
    "# # Load the data\n",
    "# train_df = pd.read_csv(\"../gender/train.csv\")\n",
    "# val_df = pd.read_csv(\"../gender/val.csv\")\n",
    "\n",
    "# # Exclude the columns which are not features\n",
    "# exclude_cols = [\n",
    "#     \"Activity\", \"Subject\", \"window\", \"set\", \"trial_id\",\n",
    "#     \"sex\", \"most_affected_wrist\", \"most_affected_ankle\", \"dominant_side\",\n",
    "#     \"age\", \"height_(cm)\", \"weight_(kg)\", \"most_affected_side\",\n",
    "#     \"hoehn_and_yahr_(stage)\", \"years_since_diagnosis\", \"cit\", \"updrs\"\n",
    "# ]\n",
    "\n",
    "# feature_cols = [col for col in train_df.columns if col not in exclude_cols]\n",
    "\n",
    "# X_train = train_df[feature_cols]\n",
    "# y_train = train_df[\"Activity\"]\n",
    "\n",
    "# X_val = val_df[feature_cols]\n",
    "# y_val = val_df[\"Activity\"]\n"
   ]
  },
  {
   "cell_type": "code",
   "execution_count": null,
   "id": "52c5177d",
   "metadata": {},
   "outputs": [],
   "source": [
    "# from pprint import pprint\n",
    "\n",
    "# # define the range of random grid parameters\n",
    "# # will not go through every fits, save times in big data\n",
    "# random_grid = {\n",
    "#     'n_estimators': np.linspace(100, 1000, 10, dtype=int),\n",
    "#     'max_depth': [10, 20, 30, 50, None],\n",
    "#     'min_samples_split': [2, 5, 10],\n",
    "#     'min_samples_leaf': [1, 2, 4],\n",
    "#     'max_features': ['sqrt', 'log2']\n",
    "# }\n",
    "\n",
    "# rf_model = RandomForestClassifier(random_state=42)\n",
    "\n",
    "# # random search\n",
    "# rf_random_search = RandomizedSearchCV(\n",
    "#     estimator=rf_model,\n",
    "#     param_distributions=random_grid,\n",
    "#     n_iter=30,  # random search n-times of hyperparams fits\n",
    "#     cv=3,\n",
    "#     verbose=2,\n",
    "#     random_state=42,\n",
    "#     n_jobs=-1,\n",
    "#     scoring='accuracy'\n",
    "# )\n",
    "\n",
    "# rf_random_search.fit(X_train, y_train)\n",
    "\n",
    "# # output the best parameters in random search\n",
    "# print(\"Random Search Best Parameters:\")\n",
    "# pprint(rf_random_search.best_params_)\n"
   ]
  },
  {
   "cell_type": "code",
   "execution_count": null,
   "id": "24263cce",
   "metadata": {},
   "outputs": [],
   "source": [
    "# # slightly tune the results from random  search\n",
    "# best_params = rf_random_search.best_params_\n",
    "\n",
    "# # set a narrower range\n",
    "# # e.g. +-100; +-1 ...\n",
    "# param_grid2 = {\n",
    "#     'n_estimators': [950, 1000, 1100],\n",
    "#     'max_depth':  [5, 10, 15],\n",
    "#     'min_samples_split': [4, 5, 6],\n",
    "#     'min_samples_leaf': [2, 3],\n",
    "#     'max_features': ['log2']\n",
    "# }\n",
    "\n",
    "# # handle negative number may occors\n",
    "# param_grid2['min_samples_split'] = [x for x in param_grid2['min_samples_split'] if x >= 2]\n",
    "\n",
    "# # apply grid search\n",
    "# grid_search = GridSearchCV(\n",
    "#     estimator=rf_model,\n",
    "#     param_grid=param_grid2,\n",
    "#     cv=3,\n",
    "#     n_jobs=-1,\n",
    "#     verbose=2,\n",
    "#     scoring='accuracy'\n",
    "# )\n",
    "\n",
    "# grid_search.fit(X_train, y_train)\n",
    "\n",
    "# print(\"Grid Search Best Parameters:\")\n",
    "# pprint(grid_search.best_params_)\n"
   ]
  },
  {
   "cell_type": "code",
   "execution_count": null,
   "id": "31f1ffc2",
   "metadata": {},
   "outputs": [],
   "source": [
    "# # final model\n",
    "# final_model = grid_search.best_estimator_\n",
    "\n",
    "# # pred in the val set\n",
    "# y_val_pred = final_model.predict(X_val)\n",
    "\n",
    "# # the classification report\n",
    "# val_report_2 = classification_report(y_val, y_val_pred, output_dict=True)\n",
    "# report2_df = pd.DataFrame(val_report_2).transpose()\n",
    "# report2_df.to_csv(\"../gender/val_classi_report_2_random.csv\")\n",
    "\n",
    "# print(\"Final model performance on validation set:\")\n",
    "# print(report2_df)\n",
    "\n"
   ]
  },
  {
   "cell_type": "markdown",
   "id": "817c9a4f",
   "metadata": {},
   "source": [
    "------------"
   ]
  },
  {
   "cell_type": "markdown",
   "id": "edd06d2c",
   "metadata": {},
   "source": [
    "Version 3:  \n",
    "    \n",
    "add pipeline，SelectKBest，StandardScaler  "
   ]
  },
  {
   "cell_type": "code",
   "execution_count": null,
   "metadata": {},
   "outputs": [],
   "source": [
    "import pandas as pd\n",
    "from sklearn.model_selection import GridSearchCV\n",
    "from sklearn.ensemble import RandomForestClassifier\n",
    "from sklearn.pipeline import Pipeline\n",
    "from sklearn.preprocessing import StandardScaler\n",
    "from sklearn.feature_selection import SelectKBest, f_classif\n",
    "\n",
    "# Load training data\n",
    "train_df = pd.read_csv(\"../gender_merged/train.csv\")\n",
    "\n",
    "# Drop out the columns which are not features\n",
    "exclude_cols = [\n",
    "    \"Activity\", \"Subject\", \"window\", \"set\", \"trial_id\",\n",
    "    \"sex\", \"most_affected_wrist\", \"most_affected_ankle\", \"dominant_side\",\n",
    "    \"age\", \"height_(cm)\", \"weight_(kg)\", \"most_affected_side\",\n",
    "    \"hoehn_and_yahr_(stage)\", \"years_since_diagnosis\", \"cit\", \"updrs\"\n",
    "]\n",
    "\n",
    "feature_cols = [col for col in train_df.columns if col not in exclude_cols]\n",
    "\n",
    "X_train = train_df[feature_cols]\n",
    "y_train = train_df[\"Activity\"]\n",
    "\n",
    "# create pipeline\n",
    "# use standardScaler - standardize all features to mean = 0 and standard deviation = 1\n",
    "# use SelectKBest to only keep top x features, remove noise features.\n",
    "pipeline_new = Pipeline([\n",
    "    (\"scaler\", StandardScaler()),\n",
    "    (\"feature_selection\", SelectKBest(score_func=f_classif)),\n",
    "    (\"classifier\", RandomForestClassifier(class_weight=\"balanced\", random_state=42))\n",
    "])\n",
    "\n",
    "# Define the grid parameters\n",
    "param_grid3 = {\n",
    "    \"feature_selection__k\": [40, 50, 60, 70], \n",
    "    \"classifier__n_estimators\": [50, 75, 100, 125, 150], \n",
    "    \"classifier__max_depth\": [2, 3],\n",
    "    \"classifier__min_samples_split\": [2, 4],\n",
    "    \"classifier__min_samples_leaf\": [1, 2],\n",
    "    \"classifier__max_features\": [\"sqrt\", \"log2\"]\n",
    "}\n",
    "\n",
    "# Apply grid searchh\n",
    "grid_search = GridSearchCV(\n",
    "    estimator=pipeline_new,\n",
    "    param_grid=param_grid3,\n",
    "    cv=3,\n",
    "    scoring=\"accuracy\",\n",
    "    verbose=2,\n",
    "    n_jobs=-1\n",
    ")\n",
    "\n",
    "grid_search.fit(X_train, y_train)\n",
    "\n",
    "# output\n",
    "print(\"Best Hyperparameters:\")\n",
    "print(grid_search.best_params_)\n"
   ]
  },
  {
   "cell_type": "markdown",
   "id": "7f7243a4",
   "metadata": {},
   "source": [
    "Validation Set + Confusion Matrix"
   ]
  },
  {
   "cell_type": "code",
   "execution_count": null,
   "id": "f304339e",
   "metadata": {},
   "outputs": [],
   "source": [
    "from sklearn.metrics import classification_report, confusion_matrix\n",
    "import matplotlib.pyplot as plt\n",
    "import seaborn as sns\n",
    "\n",
    "# Get best model\n",
    "best_model3 = grid_search.best_estimator_\n",
    "\n",
    "# Load val set\n",
    "val_df = pd.read_csv(\"../gender_merged/val.csv\")\n",
    "\n",
    "# Prepare the validation data\n",
    "X_val = val_df[feature_cols]\n",
    "y_val = val_df[\"Activity\"]\n",
    "\n",
    "# Predict\n",
    "y_pred = best_model3.predict(X_val)\n",
    "\n",
    "print(\"Classification Report:\")\n",
    "print(classification_report(y_val, y_pred))\n",
    "\n",
    "\n",
    "# Train and val accuracy\n",
    "train_score = best_model3.score(X_train, y_train)\n",
    "val_score = best_model3.score(X_val, y_val)\n",
    "\n",
    "print(f\"Training accuracy: {train_score:.4f}\")\n",
    "print(f\"Validation accuracy: {val_score:.4f}\")\n",
    "\n",
    "# Confusion Matrix\n",
    "labels = sorted(y_val.unique())\n",
    "cm = confusion_matrix(y_val, y_pred, labels=labels)\n",
    "sns.heatmap(cm, annot=True, fmt=\"d\", cmap=\"Blues\", xticklabels=labels, yticklabels=labels)\n",
    "plt.title(\"Step 7 Confusion Matrix (Validation Set)\")\n",
    "plt.xlabel(\"Predicted Label\")\n",
    "plt.ylabel(\"True Label\")\n",
    "plt.xticks(rotation=45, ha=\"right\")\n",
    "plt.yticks(rotation=0)\n",
    "plt.tight_layout()\n",
    "plt.show()\n"
   ]
  },
  {
   "cell_type": "markdown",
   "id": "d6001e64",
   "metadata": {},
   "source": [
    "---------------\n",
    "\n",
    "---------------------"
   ]
  },
  {
   "cell_type": "markdown",
   "id": "4f2b32f0",
   "metadata": {},
   "source": [
    "### Step 8: LOSO CV and evaluation"
   ]
  },
  {
   "cell_type": "code",
   "execution_count": null,
   "id": "16393af2",
   "metadata": {},
   "outputs": [],
   "source": [
    "import pandas as pd\n",
    "from sklearn.model_selection import LeaveOneGroupOut\n",
    "from sklearn.pipeline import Pipeline\n",
    "from sklearn.preprocessing import StandardScaler\n",
    "from sklearn.feature_selection import SelectKBest, f_classif\n",
    "from sklearn.ensemble import RandomForestClassifier\n",
    "from sklearn.metrics import classification_report, confusion_matrix\n",
    "import matplotlib.pyplot as plt\n",
    "import seaborn as sns\n",
    "\n",
    "# Load data\n",
    "train_df = pd.read_csv(\"../gender_merged/train.csv\")\n",
    "val_df = pd.read_csv(\"../gender_merged/val.csv\")\n",
    "# Combine train and val data\n",
    "comb_df = pd.concat([train_df, val_df], ignore_index=True)\n",
    "\n",
    "\n",
    "# Drop columns which not features\n",
    "drop_cols = [\n",
    "    \"Activity\", \"Subject\", \"window\", \"set\", \"trial_id\",\n",
    "    \"sex\", \"most_affected_wrist\", \"most_affected_ankle\", \"dominant_side\",\n",
    "    \"age\", \"height_(cm)\", \"weight_(kg)\", \"most_affected_side\",\n",
    "    \"hoehn_and_yahr_(stage)\", \"years_since_diagnosis\", \"cit\", \"updrs\"\n",
    "]\n",
    "\n",
    "X = comb_df.drop(columns=drop_cols)\n",
    "y = comb_df[\"Activity\"]\n",
    "groups = comb_df[\"Subject\"]  \n",
    "\n",
    "# Define pipeline with optimal hyperparameters\n",
    "pipeline_loso = Pipeline([\n",
    "    (\"scaler\", StandardScaler()),\n",
    "    (\"feature_selection\", SelectKBest(score_func=f_classif, k=70)),\n",
    "    (\"classifier\", RandomForestClassifier(\n",
    "        n_estimators=200,\n",
    "        max_depth=2,\n",
    "        min_samples_split=2,\n",
    "        min_samples_leaf=1,\n",
    "        max_features=\"sqrt\",\n",
    "        class_weight=\"balanced\",\n",
    "        random_state=42\n",
    "    ))\n",
    "])\n",
    "\n",
    "# LOSO CV\n",
    "logo = LeaveOneGroupOut()\n",
    "y_true_all, y_pred_all = [], []\n",
    "\n",
    "for train_idx, val_idx in logo.split(X, y, groups):\n",
    "    X_train, X_val = X.iloc[train_idx], X.iloc[val_idx]\n",
    "    y_train, y_val = y.iloc[train_idx], y.iloc[val_idx]\n",
    "\n",
    "    pipeline_loso.fit(X_train, y_train)\n",
    "    y_pred = pipeline_loso.predict(X_val)\n",
    "\n",
    "    y_true_all.extend(y_val)\n",
    "    y_pred_all.extend(y_pred)\n"
   ]
  },
  {
   "cell_type": "markdown",
   "id": "55405f68",
   "metadata": {},
   "source": [
    "Report and Confusion Matrix:"
   ]
  },
  {
   "cell_type": "code",
   "execution_count": null,
   "id": "74acaf03",
   "metadata": {},
   "outputs": [],
   "source": [
    "# evaluation report\n",
    "print(\"Classification Report:\")\n",
    "print(classification_report(y_true_all, y_pred_all))\n",
    "\n",
    "# Confusion Matrix\n",
    "labels = sorted(y.unique())\n",
    "cm = confusion_matrix(y_true_all, y_pred_all, labels=labels)\n",
    "sns.heatmap(cm, annot=True, fmt=\"d\", cmap=\"Blues\", xticklabels=labels, yticklabels=labels)\n",
    "plt.title(\"LOSO CV Confusion Matrix\")\n",
    "plt.xlabel(\"Predicted Label\")\n",
    "plt.ylabel(\"True Label\")\n",
    "plt.xticks(rotation=45, ha=\"right\")\n",
    "plt.yticks(rotation=0)\n",
    "plt.tight_layout()\n",
    "plt.show()"
   ]
  },
  {
   "cell_type": "markdown",
   "id": "e32f492e",
   "metadata": {},
   "source": [
    "- Precision - predict as M10, acturally belong to same activity.  \n",
    "- Recall - ture belong to M10, and correctly predicted.  \n",
    "- F1 score - harmonic mean  \n",
    "- Support - sample size  \n",
    "  \n",
    "F1-Score = 2 * (Precision * Recall) / (Precision + Recall)  \n",
    "F1-Score = (2 * TP) / (2 * TP + FP + FN)  "
   ]
  },
  {
   "cell_type": "markdown",
   "id": "d32457a4",
   "metadata": {},
   "source": [
    "----------"
   ]
  },
  {
   "cell_type": "markdown",
   "id": "9f3bf39f",
   "metadata": {},
   "source": [
    "Feature Importance Plot"
   ]
  },
  {
   "cell_type": "code",
   "execution_count": null,
   "id": "70a11710",
   "metadata": {},
   "outputs": [
    {
     "data": {
      "image/png": "[encoded data removed]",
      "text/plain": [
       "<Figure size 640x480 with 1 Axes>"
      ]
     },
     "metadata": {},
     "output_type": "display_data"
    }
   ],
   "source": [
    "import matplotlib.pyplot as plt\n",
    "\n",
    "# Feature importance\n",
    "best_rf = grid_search.best_estimator_.named_steps[\"classifier\"]\n",
    "k = grid_search.best_params_[\"feature_selection__k\"]\n",
    "selected_features = grid_search.best_estimator_.named_steps[\"feature_selection\"].get_support(indices=True)\n",
    "selected_feature_names = X_train.columns[selected_features]\n",
    "\n",
    "importances = best_rf.feature_importances_\n",
    "indices = importances.argsort()[::-1]  # sort from high to low\n",
    "\n",
    "top_n = 20\n",
    "top_indices = indices[:top_n]\n",
    "\n",
    "plt.title(f\"Top {top_n} Important Features\")\n",
    "plt.bar(range(top_n), importances[top_indices])\n",
    "plt.xticks(range(top_n), selected_feature_names[top_indices], rotation=90)\n",
    "plt.tight_layout()\n",
    "plt.show()\n"
   ]
  },
  {
   "cell_type": "markdown",
   "id": "a6d5decf",
   "metadata": {},
   "source": [
    "----------------"
   ]
  },
  {
   "cell_type": "markdown",
   "id": "3b3210e6",
   "metadata": {},
   "source": [
    "Bar plot: f1-score per class (LOSO CV)"
   ]
  },
  {
   "cell_type": "code",
   "execution_count": 10,
   "id": "b8c92beb",
   "metadata": {},
   "outputs": [
    {
     "data": {
      "image/png": "[encoded data removed]",
      "text/plain": [
       "<Figure size 640x480 with 1 Axes>"
      ]
     },
     "metadata": {},
     "output_type": "display_data"
    }
   ],
   "source": [
    "from sklearn.metrics import classification_report\n",
    "import matplotlib.pyplot as plt\n",
    "\n",
    "report = classification_report(y_true_all, y_pred_all, output_dict=True)\n",
    "classes = list(report.keys())[:-3]  # remove accuracy and avg\n",
    "\n",
    "f1_scores = [report[c][\"f1-score\"] for c in classes]\n",
    "\n",
    "plt.bar(classes, f1_scores)\n",
    "plt.xticks(rotation=45, ha=\"right\")\n",
    "plt.title(\"F1 Score per Class\")\n",
    "plt.ylabel(\"F1 Score\")\n",
    "plt.tight_layout()\n",
    "plt.show()\n"
   ]
  },
  {
   "cell_type": "markdown",
   "id": "2029f36d",
   "metadata": {},
   "source": [
    "Bar plot: recall per class (LOSO CV)"
   ]
  },
  {
   "cell_type": "code",
   "execution_count": null,
   "id": "734fdd7c",
   "metadata": {},
   "outputs": [
    {
     "data": {
      "image/png": "[encoded data removed]",
      "text/plain": [
       "<Figure size 640x480 with 1 Axes>"
      ]
     },
     "metadata": {},
     "output_type": "display_data"
    }
   ],
   "source": [
    "import matplotlib.pyplot as plt\n",
    "import seaborn as sns\n",
    "import pandas as pd\n",
    "from sklearn.metrics import classification_report\n",
    "\n",
    "report_df = pd.DataFrame(report).transpose()\n",
    "\n",
    "classes = [label for label in report_df.index if label not in ('accuracy', 'macro avg', 'weighted avg')]\n",
    "\n",
    "sns.barplot(x=report_df.loc[classes].index, y=report_df.loc[classes][\"recall\"])\n",
    "plt.title(\"Recall per Class\")\n",
    "plt.ylabel(\"Recall\")\n",
    "plt.xlabel(\"Activity\")\n",
    "plt.xticks(rotation=45, ha=\"right\")\n",
    "plt.tight_layout()\n",
    "plt.show()\n"
   ]
  },
  {
   "cell_type": "markdown",
   "id": "51d7693b",
   "metadata": {},
   "source": [
    "Bar plot: Precison per class (LOSO CV)"
   ]
  },
  {
   "cell_type": "code",
   "execution_count": 12,
   "id": "0235e003",
   "metadata": {},
   "outputs": [
    {
     "data": {
      "image/png": "[encoded data removed]",
      "text/plain": [
       "<Figure size 640x480 with 1 Axes>"
      ]
     },
     "metadata": {},
     "output_type": "display_data"
    }
   ],
   "source": [
    "sns.barplot(x=report_df.loc[classes].index, y=report_df.loc[classes][\"precision\"])\n",
    "plt.title(\"Precision per Class\")\n",
    "plt.ylabel(\"Precision\")\n",
    "plt.xlabel(\"Activity\")\n",
    "plt.xticks(rotation=45, ha=\"right\")\n",
    "plt.tight_layout()\n",
    "plt.show()"
   ]
  },
  {
   "cell_type": "code",
   "execution_count": null,
   "id": "5be19f48",
   "metadata": {},
   "outputs": [],
   "source": []
  },
  {
   "cell_type": "code",
   "execution_count": null,
   "id": "1bacabe4",
   "metadata": {},
   "outputs": [],
   "source": []
  }
 ],
 "metadata": {
  "kernelspec": {
   "display_name": "Python 3",
   "language": "python",
   "name": "python3"
  },
  "language_info": {
   "codemirror_mode": {
    "name": "ipython",
    "version": 3
   },
   "file_extension": ".py",
   "mimetype": "text/x-python",
   "name": "python",
   "nbconvert_exporter": "python",
   "pygments_lexer": "ipython3",
   "version": "3.11.5"
  }
 },
 "nbformat": 4,
 "nbformat_minor": 5
}
